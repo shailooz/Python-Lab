{
  "nbformat": 4,
  "nbformat_minor": 0,
  "metadata": {
    "colab": {
      "name": "Untitled1.ipynb",
      "provenance": []
    },
    "kernelspec": {
      "name": "python3",
      "display_name": "Python 3"
    },
    "language_info": {
      "name": "python"
    }
  },
  "cells": [
    {
      "cell_type": "markdown",
      "source": [
        "## **Loops** \n"
      ],
      "metadata": {
        "id": "jfM28A2Lw8IH"
      }
    },
    {
      "cell_type": "markdown",
      "source": [
        "**range()** - funtcion  \n",
        "\n",
        "range(n) - generates a sequence of number starting from 0 upto n-1 , incrementing by 1 \n",
        "\n",
        "range(m,n) - generates a sequence of number starting from m upto n-1 , incrementing by 1 \n",
        "\n",
        "range(m,n,i) - generates a sequence of number starting from m upto n-1 , incrementing by i\n",
        "\n"
      ],
      "metadata": {
        "id": "G3LM2iy9xHvy"
      }
    },
    {
      "cell_type": "code",
      "execution_count": null,
      "metadata": {
        "colab": {
          "base_uri": "https://localhost:8080/"
        },
        "id": "e_HMMIrIw6z7",
        "outputId": "ae7d15bd-3a30-40c3-e399-47fda134b87f"
      },
      "outputs": [
        {
          "output_type": "stream",
          "name": "stdout",
          "text": [
            "[0, 1, 2, 3, 4, 5, 6]\n",
            "[1, 2, 3, 4, 5, 6]\n",
            "[1, 4, 7, 10]\n"
          ]
        }
      ],
      "source": [
        "print(list(range(7)))\n",
        "print(list(range(1,7)))\n",
        "print(list(range(1,11,3)))"
      ]
    },
    {
      "cell_type": "markdown",
      "source": [
        "**for loop**\n",
        "\n",
        "for loops are often used to iterate over a collection of elements\n",
        "\n",
        "\n",
        "\n",
        "```\n",
        "for <loop_variable> in <collection> :\n",
        "  loop body\n",
        "```\n",
        "\n"
      ],
      "metadata": {
        "id": "x6KHZd8syYqm"
      }
    },
    {
      "cell_type": "code",
      "source": [
        "for i in range(10): #range(10) - <0,1,2,3,4,5,6,7,8,9>\n",
        "  print(i,end = \" \")"
      ],
      "metadata": {
        "colab": {
          "base_uri": "https://localhost:8080/"
        },
        "id": "nfyBKJFvynC1",
        "outputId": "7948126c-01c2-4ac4-9656-be4e7bc4cda5"
      },
      "execution_count": null,
      "outputs": [
        {
          "output_type": "stream",
          "name": "stdout",
          "text": [
            "0 1 2 3 4 5 6 7 8 9 "
          ]
        }
      ]
    },
    {
      "cell_type": "code",
      "source": [
        "#write a program to find the sum of odd numbers less than 100\n",
        "\n",
        "sum = 0\n",
        "for i in range(1,100,2):\n",
        "  sum =  sum+i\n",
        "print(\"Sum = \",sum)"
      ],
      "metadata": {
        "colab": {
          "base_uri": "https://localhost:8080/"
        },
        "id": "KJ6R1ru2yitg",
        "outputId": "ec7aa833-7ac0-454a-ed1a-a13f48a669b9"
      },
      "execution_count": null,
      "outputs": [
        {
          "output_type": "stream",
          "name": "stdout",
          "text": [
            "Sum =  2500\n"
          ]
        }
      ]
    },
    {
      "cell_type": "code",
      "source": [
        "#Write a program to print the factors of a number :\n",
        "x = int(input(\"Enter a number : \"))\n",
        "for i in range(1, x+1):\n",
        "  if x%i == 0:\n",
        "    print(i,end=\" \")\n"
      ],
      "metadata": {
        "colab": {
          "base_uri": "https://localhost:8080/"
        },
        "id": "fBAjNxrMxUUT",
        "outputId": "e2e93c94-e327-4d95-9287-48b987d3f27e"
      },
      "execution_count": null,
      "outputs": [
        {
          "output_type": "stream",
          "name": "stdout",
          "text": [
            "Enter a number : 25\n",
            "1 5 25 "
          ]
        }
      ]
    },
    {
      "cell_type": "markdown",
      "source": [
        "**Nested for loops**\n",
        "\n",
        "loops inside loops"
      ],
      "metadata": {
        "id": "SLgyjiOC0r2g"
      }
    },
    {
      "cell_type": "code",
      "source": [
        "for i in range(1,6):\n",
        "  for j in range(1,6):\n",
        "    print(\"*\",end=\"\")\n",
        "  print(\"\")\n"
      ],
      "metadata": {
        "colab": {
          "base_uri": "https://localhost:8080/"
        },
        "id": "HjqSz6ks0W7p",
        "outputId": "bf935574-9ed3-4eb1-c54d-83bcb5fe409a"
      },
      "execution_count": null,
      "outputs": [
        {
          "output_type": "stream",
          "name": "stdout",
          "text": [
            "*****\n",
            "*****\n",
            "*****\n",
            "*****\n",
            "*****\n"
          ]
        }
      ]
    },
    {
      "cell_type": "code",
      "source": [
        "for i in range(1,6):\n",
        "  for j in range(1,6):\n",
        "    print(i,end=\"\")\n",
        "  print(\"\")"
      ],
      "metadata": {
        "colab": {
          "base_uri": "https://localhost:8080/"
        },
        "id": "NNJmlMeo1Ly5",
        "outputId": "454577cc-1e48-40a5-c073-81e1ab3a4d3c"
      },
      "execution_count": null,
      "outputs": [
        {
          "output_type": "stream",
          "name": "stdout",
          "text": [
            "11111\n",
            "22222\n",
            "33333\n",
            "44444\n",
            "55555\n"
          ]
        }
      ]
    },
    {
      "cell_type": "code",
      "source": [
        "for i in range(1,6):\n",
        "  for j in range(1,6):\n",
        "    print(j,end=\"\")\n",
        "  print(\"\")"
      ],
      "metadata": {
        "colab": {
          "base_uri": "https://localhost:8080/"
        },
        "id": "f4TtdUeZ1lTg",
        "outputId": "279d0333-9615-4751-d6cc-30dd835194cd"
      },
      "execution_count": null,
      "outputs": [
        {
          "output_type": "stream",
          "name": "stdout",
          "text": [
            "12345\n",
            "12345\n",
            "12345\n",
            "12345\n",
            "12345\n"
          ]
        }
      ]
    },
    {
      "cell_type": "code",
      "source": [
        "for i in range(1,6):\n",
        "  for j in range(1,i+1):\n",
        "    print(\"*\",end=\"\")\n",
        "  print(\"\")"
      ],
      "metadata": {
        "colab": {
          "base_uri": "https://localhost:8080/"
        },
        "id": "TExUutp31ptI",
        "outputId": "f2434376-5f35-47a9-909e-67ed579b94c1"
      },
      "execution_count": null,
      "outputs": [
        {
          "output_type": "stream",
          "name": "stdout",
          "text": [
            "*\n",
            "**\n",
            "***\n",
            "****\n",
            "*****\n"
          ]
        }
      ]
    },
    {
      "cell_type": "code",
      "source": [
        "for i in range(1,6):\n",
        "  for j in range(1,i+1):\n",
        "    print(i,end=\"\")\n",
        "  print(\"\")"
      ],
      "metadata": {
        "colab": {
          "base_uri": "https://localhost:8080/"
        },
        "id": "8Z05Sboj1_eX",
        "outputId": "40bb728f-bffb-4188-be7d-cc075089c1c8"
      },
      "execution_count": null,
      "outputs": [
        {
          "output_type": "stream",
          "name": "stdout",
          "text": [
            "1\n",
            "22\n",
            "333\n",
            "4444\n",
            "55555\n"
          ]
        }
      ]
    },
    {
      "cell_type": "code",
      "source": [
        "for i in range(1,6):\n",
        "  for j in range(1,i+1):\n",
        "    print(j,end=\"\")\n",
        "  print(\"\")"
      ],
      "metadata": {
        "colab": {
          "base_uri": "https://localhost:8080/"
        },
        "id": "o2oOANIJ2MRZ",
        "outputId": "807f9ee9-a3f9-4954-d5e1-a24171068cfb"
      },
      "execution_count": null,
      "outputs": [
        {
          "output_type": "stream",
          "name": "stdout",
          "text": [
            "1\n",
            "12\n",
            "123\n",
            "1234\n",
            "12345\n"
          ]
        }
      ]
    },
    {
      "cell_type": "markdown",
      "source": [
        "**While loop** \n",
        "\n",
        "\n",
        "```\n",
        "<initialization>\n",
        "while <condition> : \n",
        "    <loop body>\n",
        "    <updation>\n",
        "```\n",
        "\n"
      ],
      "metadata": {
        "id": "-HHKsiQ72p7N"
      }
    },
    {
      "cell_type": "code",
      "source": [
        "i = 1\n",
        "while i<=10:\n",
        "  print(i,end=\" \")\n",
        "  i = i+1"
      ],
      "metadata": {
        "colab": {
          "base_uri": "https://localhost:8080/"
        },
        "id": "V-vYDLkz2QuS",
        "outputId": "b6ef2f61-1b03-4a1a-d039-e5f56a22a721"
      },
      "execution_count": null,
      "outputs": [
        {
          "output_type": "stream",
          "name": "stdout",
          "text": [
            "1 2 3 4 5 6 7 8 9 10 "
          ]
        }
      ]
    },
    {
      "cell_type": "code",
      "source": [
        "N = int(input(\"Enter a number : \"))\n",
        "is_prime = True\n",
        "f = 2\n",
        "while f <= N//2 :\n",
        "    if N%f == 0:\n",
        "      is_prime = False\n",
        "      break\n",
        "    f = f+1\n",
        "if is_prime:\n",
        "  print(\"Prime\")\n",
        "else:\n",
        "  print(\"Not prime\")"
      ],
      "metadata": {
        "colab": {
          "base_uri": "https://localhost:8080/"
        },
        "id": "m5PQUyJv33uB",
        "outputId": "d65015ad-581d-4fea-cf69-ab7c10dde410"
      },
      "execution_count": null,
      "outputs": [
        {
          "output_type": "stream",
          "name": "stdout",
          "text": [
            "Enter a number15\n",
            "Not prime\n"
          ]
        }
      ]
    },
    {
      "cell_type": "code",
      "source": [
        "i = 1\n",
        "while i<=5:\n",
        "  j = 1\n",
        "  while j<=5 - i:\n",
        "    print(\" \",end=\"\")\n",
        "    j += 1\n",
        "  j=1\n",
        "  while j<=i:\n",
        "    print(\"*\",end=\"\")\n",
        "    j += 1\n",
        "  print(\"\")\n",
        "  i += 1\n",
        "\n",
        "\n",
        "    "
      ],
      "metadata": {
        "colab": {
          "base_uri": "https://localhost:8080/"
        },
        "id": "-20P_O7H5dgJ",
        "outputId": "3e952fd6-513a-4599-ee6c-a20e6edc142f"
      },
      "execution_count": null,
      "outputs": [
        {
          "output_type": "stream",
          "name": "stdout",
          "text": [
            "    *\n",
            "   **\n",
            "  ***\n",
            " ****\n",
            "*****\n"
          ]
        }
      ]
    },
    {
      "cell_type": "code",
      "source": [
        "i = 1\n",
        "while i<=5:\n",
        "  j = 1\n",
        "  while j<=5 - i:\n",
        "    print(\" \",end=\"\")\n",
        "    j += 1\n",
        "  j=1\n",
        "  while j<=i:\n",
        "    print(\"* \",end=\"\")\n",
        "    j += 1\n",
        "  print(\"\")\n",
        "  i += 1"
      ],
      "metadata": {
        "colab": {
          "base_uri": "https://localhost:8080/"
        },
        "id": "Ks7i3lJy6Nh_",
        "outputId": "a1449f2b-f39e-484a-9ad9-eb863958b4d1"
      },
      "execution_count": null,
      "outputs": [
        {
          "output_type": "stream",
          "name": "stdout",
          "text": [
            "    * \n",
            "   * * \n",
            "  * * * \n",
            " * * * * \n",
            "* * * * * \n"
          ]
        }
      ]
    },
    {
      "cell_type": "code",
      "source": [
        "i = 1\n",
        "while i<=5:\n",
        "  j = 1\n",
        "  while j<=5 - i:\n",
        "    print(\" \",end=\"\")\n",
        "    j += 1\n",
        "  j=1\n",
        "  while j<=2*i - 1 :\n",
        "    print(\"*\",end=\"\")\n",
        "    j += 1\n",
        "  print(\"\")\n",
        "  i += 1\n",
        "\n"
      ],
      "metadata": {
        "colab": {
          "base_uri": "https://localhost:8080/"
        },
        "id": "Yda4EZza7J16",
        "outputId": "69c9edf4-3902-479d-d3a8-ed8f07846dd0"
      },
      "execution_count": null,
      "outputs": [
        {
          "output_type": "stream",
          "name": "stdout",
          "text": [
            "    *\n",
            "   ***\n",
            "  *****\n",
            " *******\n",
            "*********\n"
          ]
        }
      ]
    },
    {
      "cell_type": "code",
      "source": [
        "i = 1\n",
        "while i<=5:\n",
        "  j = 1\n",
        "  while j<=5 - i:\n",
        "    print(\" \",end=\"\")\n",
        "    j += 1\n",
        "  j=1\n",
        "  while j<=2*i - 1 :\n",
        "    if j == 1 or j == 2*i - 1 :\n",
        "      print(\"*\",end=\"\")\n",
        "    else:\n",
        "      print(\" \",end=\"\")\n",
        "    j += 1\n",
        "  print(\"\")\n",
        "  i += 1\n",
        "i = 4\n",
        "while i>=1:\n",
        "  j = 1\n",
        "  while j<=5 - i:\n",
        "    print(\" \",end=\"\")\n",
        "    j += 1\n",
        "  j=1\n",
        "  while j<=2*i - 1 :\n",
        "\n",
        "    if j == 1 or j == 2*i - 1 :\n",
        "      print(\"*\",end=\"\")\n",
        "    else:\n",
        "      print(\" \",end=\"\")\n",
        "    j += 1\n",
        "  print(\"\")\n",
        "  i -= 1"
      ],
      "metadata": {
        "colab": {
          "base_uri": "https://localhost:8080/"
        },
        "id": "sxgJgQmk8Grn",
        "outputId": "36ee74f2-3824-47b6-8f5a-d0b5eb7dfd36"
      },
      "execution_count": null,
      "outputs": [
        {
          "output_type": "stream",
          "name": "stdout",
          "text": [
            "    *\n",
            "   * *\n",
            "  *   *\n",
            " *     *\n",
            "*       *\n",
            " *     *\n",
            "  *   *\n",
            "   * *\n",
            "    *\n"
          ]
        }
      ]
    },
    {
      "cell_type": "code",
      "source": [
        ""
      ],
      "metadata": {
        "id": "pnKsdmK_8Tnz"
      },
      "execution_count": null,
      "outputs": []
    }
  ]
}