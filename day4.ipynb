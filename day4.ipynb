{
  "nbformat": 4,
  "nbformat_minor": 0,
  "metadata": {
    "colab": {
      "name": "Untitled2.ipynb",
      "provenance": []
    },
    "kernelspec": {
      "name": "python3",
      "display_name": "Python 3"
    },
    "language_info": {
      "name": "python"
    }
  },
  "cells": [
    {
      "cell_type": "markdown",
      "source": [
        "# **Containers**\n",
        "\n",
        "Containers are built-in datadtypes in python , which is used to hold data objects of any type\n",
        "\n",
        "\n",
        "\n",
        "2.   Tuple\n",
        "3.   Dictionary\n",
        "4.   Set\n",
        "\n"
      ],
      "metadata": {
        "id": "sYW-eK7unIeC"
      }
    },
    {
      "cell_type": "markdown",
      "source": [
        "**List**\n",
        "\n",
        "*   It is a mutable container, that holds any type of data object\n",
        "*   It is specifed using a pair of '[ ]'\n",
        "*   It supports powerful manipulations\n",
        "*   The internal organization of the list is more complicated \n",
        "\n"
      ],
      "metadata": {
        "id": "4D0u4EOeoP9M"
      }
    },
    {
      "cell_type": "code",
      "execution_count": null,
      "metadata": {
        "colab": {
          "base_uri": "https://localhost:8080/"
        },
        "id": "WCrapaETm6Po",
        "outputId": "1b02fafa-503e-440f-e7f7-d4bf501e907c"
      },
      "outputs": [
        {
          "output_type": "stream",
          "name": "stdout",
          "text": [
            "[1, 2, 3, 4, 5]\n",
            "<class 'list'>\n"
          ]
        }
      ],
      "source": [
        "  l = [1,2,3,4,5]\n",
        "  print(l)\n",
        "  print(type(l))"
      ]
    },
    {
      "cell_type": "code",
      "source": [
        "l = list(range(1,11))\n",
        "print(l)\n",
        "print(type(l))"
      ],
      "metadata": {
        "colab": {
          "base_uri": "https://localhost:8080/"
        },
        "id": "bW7oRXA-o-Xo",
        "outputId": "4fecc9cc-ef19-4d83-d1bb-5edc9a289f80"
      },
      "execution_count": null,
      "outputs": [
        {
          "output_type": "stream",
          "name": "stdout",
          "text": [
            "[1, 2, 3, 4, 5, 6, 7, 8, 9, 10]\n",
            "<class 'list'>\n"
          ]
        }
      ]
    },
    {
      "cell_type": "code",
      "source": [
        "s =  list('computer')\n",
        "print(s)\n",
        "print(type(s))"
      ],
      "metadata": {
        "colab": {
          "base_uri": "https://localhost:8080/"
        },
        "id": "aU3aFEfopNwq",
        "outputId": "47fdb3fa-595b-4e14-8b93-233e1addb24f"
      },
      "execution_count": null,
      "outputs": [
        {
          "output_type": "stream",
          "name": "stdout",
          "text": [
            "['c', 'o', 'm', 'p', 'u', 't', 'e', 'r']\n",
            "<class 'list'>\n"
          ]
        }
      ]
    },
    {
      "cell_type": "markdown",
      "source": [
        "**Indexing and Slicing of List**\n",
        "\n",
        "*   List index starts from 0\n",
        "*   Python support negative index ; that is -1 represents last element, -2 represent second last element, and so on\n",
        "\n"
      ],
      "metadata": {
        "id": "DZ8dNgulpfWt"
      }
    },
    {
      "cell_type": "code",
      "source": [
        "l = ['a','b','c','d','e']"
      ],
      "metadata": {
        "id": "PaQqqi0QpZzn"
      },
      "execution_count": null,
      "outputs": []
    },
    {
      "cell_type": "code",
      "source": [
        "print(l[0])"
      ],
      "metadata": {
        "colab": {
          "base_uri": "https://localhost:8080/"
        },
        "id": "kOK3YGrFqhpF",
        "outputId": "6f176234-0b74-4d00-a12c-218ac58596fd"
      },
      "execution_count": null,
      "outputs": [
        {
          "output_type": "stream",
          "name": "stdout",
          "text": [
            "a\n"
          ]
        }
      ]
    },
    {
      "cell_type": "code",
      "source": [
        "print(l[-1],l[-2])"
      ],
      "metadata": {
        "colab": {
          "base_uri": "https://localhost:8080/"
        },
        "id": "n3RMxuW3qkpd",
        "outputId": "a7afbb2c-cf5e-4c06-d2e7-009e0960c468"
      },
      "execution_count": null,
      "outputs": [
        {
          "output_type": "stream",
          "name": "stdout",
          "text": [
            "e d\n"
          ]
        }
      ]
    },
    {
      "cell_type": "markdown",
      "source": [
        "Slicing \n",
        "\n",
        "* Slicing is a list operation used to split out a part of an existing list. \n",
        "* The syntax used for slicing is list_name[l:u]\n",
        "* l - lower bound \n",
        "* u -upper bound\n",
        "* As a result the sublist starting from l to u-1 will be sliced out."
      ],
      "metadata": {
        "id": "nvy4XEIvq763"
      }
    },
    {
      "cell_type": "code",
      "source": [
        "l = list('computerscience')\n",
        "print(l)\n",
        "print(l[5:9])\n",
        "print(l[2:])\n",
        "print(l[:6])\n",
        "print(l[1:-1])"
      ],
      "metadata": {
        "colab": {
          "base_uri": "https://localhost:8080/"
        },
        "id": "N92BiupCqpRw",
        "outputId": "c941b760-202c-40f1-eb2a-0c5a79e4595a"
      },
      "execution_count": null,
      "outputs": [
        {
          "output_type": "stream",
          "name": "stdout",
          "text": [
            "['c', 'o', 'm', 'p', 'u', 't', 'e', 'r', 's', 'c', 'i', 'e', 'n', 'c', 'e']\n",
            "['t', 'e', 'r', 's']\n",
            "['m', 'p', 'u', 't', 'e', 'r', 's', 'c', 'i', 'e', 'n', 'c', 'e']\n",
            "['c', 'o', 'm', 'p', 'u', 't']\n",
            "['o', 'm', 'p', 'u', 't', 'e', 'r', 's', 'c', 'i', 'e', 'n', 'c']\n"
          ]
        }
      ]
    },
    {
      "cell_type": "markdown",
      "source": [
        "**List methods** \n",
        "\n",
        "Essential methods :    \n",
        "\n",
        "1.   len()\n",
        "2.   append()\n",
        "3.   pop()\n",
        "4.   insert()\n",
        "5.   remove()\n",
        "6.   extend()\n",
        "7.   sort()\n",
        "\n",
        "\n"
      ],
      "metadata": {
        "id": "5olngA1Ns30a"
      }
    },
    {
      "cell_type": "code",
      "source": [
        "l = [1,2,'a','b',True]\n",
        "print(l)"
      ],
      "metadata": {
        "colab": {
          "base_uri": "https://localhost:8080/"
        },
        "id": "yJlkDUY1sBYE",
        "outputId": "2b8a8d35-70af-4f6c-abc7-af603cbd09e8"
      },
      "execution_count": null,
      "outputs": [
        {
          "output_type": "stream",
          "name": "stdout",
          "text": [
            "[1, 2, 'a', 'b', True]\n"
          ]
        }
      ]
    },
    {
      "cell_type": "code",
      "source": [
        "l = [1,2,'a','b',True]\n",
        "print(len(l))\n",
        "l.append(1.5)\n",
        "print(l)\n",
        "x = l.pop()\n",
        "print(l,x)"
      ],
      "metadata": {
        "colab": {
          "base_uri": "https://localhost:8080/"
        },
        "id": "QILgKuRptda6",
        "outputId": "f631e1e4-15ab-4517-80ee-77b52b8b6e33"
      },
      "execution_count": null,
      "outputs": [
        {
          "output_type": "stream",
          "name": "stdout",
          "text": [
            "5\n",
            "[1, 2, 'a', 'b', True, 1.5]\n",
            "[1, 2, 'a', 'b', True] 1.5\n"
          ]
        }
      ]
    },
    {
      "cell_type": "code",
      "source": [
        "l = [1,2,'a','b',True]\n",
        "l.insert(2,'x')\n",
        "print(l)\n",
        "l.remove('x')\n",
        "print(l)"
      ],
      "metadata": {
        "colab": {
          "base_uri": "https://localhost:8080/"
        },
        "id": "uw7kbd2Atii9",
        "outputId": "98a111eb-bfc4-4a53-a4e1-f1282af31485"
      },
      "execution_count": null,
      "outputs": [
        {
          "output_type": "stream",
          "name": "stdout",
          "text": [
            "[1, 2, 'x', 'a', 'b', True]\n",
            "[1, 2, 'a', 'b', True]\n"
          ]
        }
      ]
    },
    {
      "cell_type": "code",
      "source": [
        "l = [1,2,'a','b',True]\n",
        "b = ['r','g','b']\n",
        "l.append(b)\n",
        "print(l)"
      ],
      "metadata": {
        "colab": {
          "base_uri": "https://localhost:8080/"
        },
        "id": "aGEOqyCtuR5n",
        "outputId": "d35203a3-1efa-4be2-ef7d-9279eb997b74"
      },
      "execution_count": null,
      "outputs": [
        {
          "output_type": "stream",
          "name": "stdout",
          "text": [
            "[1, 2, 'a', 'b', True, ['r', 'g', 'b']]\n"
          ]
        }
      ]
    },
    {
      "cell_type": "code",
      "source": [
        "l.remove(b)\n",
        "print(l)"
      ],
      "metadata": {
        "colab": {
          "base_uri": "https://localhost:8080/"
        },
        "id": "7gfJ2_Nlu8cE",
        "outputId": "ca08823c-8daf-432f-aa2f-f2ee364cea17"
      },
      "execution_count": null,
      "outputs": [
        {
          "output_type": "stream",
          "name": "stdout",
          "text": [
            "[1, 2, 'a', 'b', True]\n"
          ]
        }
      ]
    },
    {
      "cell_type": "code",
      "source": [
        "l.extend(b)\n",
        "print(l)"
      ],
      "metadata": {
        "colab": {
          "base_uri": "https://localhost:8080/"
        },
        "id": "heVCql7EvEcZ",
        "outputId": "f3afde5a-405c-4cd6-d380-43f7ddad7811"
      },
      "execution_count": null,
      "outputs": [
        {
          "output_type": "stream",
          "name": "stdout",
          "text": [
            "[1, 2, 'a', 'b', True, 'r', 'g', 'b']\n"
          ]
        }
      ]
    },
    {
      "cell_type": "code",
      "source": [
        "l = [1,4,2,6,7,8]\n",
        "l.sort()\n",
        "print(l)"
      ],
      "metadata": {
        "colab": {
          "base_uri": "https://localhost:8080/"
        },
        "id": "QLgg0IvevXrY",
        "outputId": "eec0adcc-39ea-4265-912d-a39436a2429b"
      },
      "execution_count": null,
      "outputs": [
        {
          "output_type": "stream",
          "name": "stdout",
          "text": [
            "[1, 2, 4, 6, 7, 8]\n"
          ]
        }
      ]
    },
    {
      "cell_type": "markdown",
      "source": [
        "**Iterating over list and List comprehension**"
      ],
      "metadata": {
        "id": "6aMtXl_2vpzz"
      }
    },
    {
      "cell_type": "code",
      "source": [
        "l = [1,4,2,6,7,8]\n",
        "\n",
        "for i in range(0,len(l)):\n",
        "  print(l[i])"
      ],
      "metadata": {
        "colab": {
          "base_uri": "https://localhost:8080/"
        },
        "id": "9c3fuh_EvmLx",
        "outputId": "3b673625-05b1-4747-a4ae-bd5b8e02fa62"
      },
      "execution_count": null,
      "outputs": [
        {
          "output_type": "stream",
          "name": "stdout",
          "text": [
            "1\n",
            "4\n",
            "2\n",
            "6\n",
            "7\n",
            "8\n"
          ]
        }
      ]
    },
    {
      "cell_type": "code",
      "source": [
        "for i in l:\n",
        "  print(i)"
      ],
      "metadata": {
        "colab": {
          "base_uri": "https://localhost:8080/"
        },
        "id": "MI0n21HGwE_4",
        "outputId": "831c947c-1ec7-4385-d21e-e8ff6f9c94b6"
      },
      "execution_count": null,
      "outputs": [
        {
          "output_type": "stream",
          "name": "stdout",
          "text": [
            "1\n",
            "4\n",
            "2\n",
            "6\n",
            "7\n",
            "8\n"
          ]
        }
      ]
    },
    {
      "cell_type": "code",
      "source": [
        "for id,i in enumerate(l):\n",
        "  print(id , '->', i)"
      ],
      "metadata": {
        "colab": {
          "base_uri": "https://localhost:8080/"
        },
        "id": "GZLJlOO3wSGY",
        "outputId": "d040a58a-608c-46a6-bf10-4de9c430ef73"
      },
      "execution_count": null,
      "outputs": [
        {
          "output_type": "stream",
          "name": "stdout",
          "text": [
            "0 -> 1\n",
            "1 -> 4\n",
            "2 -> 2\n",
            "3 -> 6\n",
            "4 -> 7\n",
            "5 -> 8\n"
          ]
        }
      ]
    },
    {
      "cell_type": "markdown",
      "source": [
        "list comprehension"
      ],
      "metadata": {
        "id": "Vb11Lf9ww8d7"
      }
    },
    {
      "cell_type": "code",
      "source": [
        "l =  [1,2,3,4,5,6]\n",
        "sqr = []\n",
        "for i in l:\n",
        "  sqr.append(i**2)\n",
        "print(sqr)"
      ],
      "metadata": {
        "colab": {
          "base_uri": "https://localhost:8080/"
        },
        "id": "Voo6tMCIweV_",
        "outputId": "982fc5e9-3847-443f-c57c-9e44c24f0a0e"
      },
      "execution_count": null,
      "outputs": [
        {
          "output_type": "stream",
          "name": "stdout",
          "text": [
            "[1, 4, 9, 16, 25, 36]\n"
          ]
        }
      ]
    },
    {
      "cell_type": "code",
      "source": [
        "sqr = [x**2 for x in l]\n",
        "print(sqr)"
      ],
      "metadata": {
        "colab": {
          "base_uri": "https://localhost:8080/"
        },
        "id": "JJw-qBXcwzl3",
        "outputId": "abd6dd4b-43a9-4b80-d245-0d662075cf3c"
      },
      "execution_count": null,
      "outputs": [
        {
          "output_type": "stream",
          "name": "stdout",
          "text": [
            "[1, 4, 9, 16, 25, 36]\n"
          ]
        }
      ]
    },
    {
      "cell_type": "code",
      "source": [
        "l =  [1,2,3,4,5,6]\n",
        "esqr = []\n",
        "for i in l:\n",
        "  if i%2 ==0:\n",
        "    esqr.append(i**2)\n",
        "print(esqr)"
      ],
      "metadata": {
        "colab": {
          "base_uri": "https://localhost:8080/"
        },
        "id": "gcqnp_PXxH7X",
        "outputId": "a37b382f-f82b-41d5-d158-c342ac802b07"
      },
      "execution_count": null,
      "outputs": [
        {
          "output_type": "stream",
          "name": "stdout",
          "text": [
            "[4, 16, 36]\n"
          ]
        }
      ]
    },
    {
      "cell_type": "code",
      "source": [
        "esqr = [x**2 for x in l if x%2 == 0]\n",
        "print(esqr)"
      ],
      "metadata": {
        "colab": {
          "base_uri": "https://localhost:8080/"
        },
        "id": "6zKzq-jSxXs9",
        "outputId": "9580080d-eb75-4da0-b15d-5f168ed8f1cc"
      },
      "execution_count": null,
      "outputs": [
        {
          "output_type": "stream",
          "name": "stdout",
          "text": [
            "[4, 16, 36]\n"
          ]
        }
      ]
    },
    {
      "cell_type": "code",
      "source": [
        ""
      ],
      "metadata": {
        "id": "AzQYuae-xn8-"
      },
      "execution_count": null,
      "outputs": []
    }
  ]
}