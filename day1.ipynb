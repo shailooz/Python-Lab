{
  "nbformat": 4,
  "nbformat_minor": 0,
  "metadata": {
    "colab": {
      "name": "day1.ipynb",
      "provenance": []
    },
    "kernelspec": {
      "name": "python3",
      "display_name": "Python 3"
    },
    "language_info": {
      "name": "python"
    }
  },
  "cells": [
    {
      "cell_type": "markdown",
      "source": [
        "**Python Basics**"
      ],
      "metadata": {
        "id": "6P9fLYyYtQQJ"
      }
    },
    {
      "cell_type": "code",
      "source": [
        "print(\"Hello World\")\n",
        "\n",
        "print(\"Hello\",end=\" \")\n",
        "print(\"World\")\n",
        "\n",
        "print(\"Hello\",\"World\",sep=\"*\")"
      ],
      "metadata": {
        "colab": {
          "base_uri": "https://localhost:8080/"
        },
        "id": "XzZphnxMtVp4",
        "outputId": "1cd6a75e-5d6f-4ab7-a331-bcf7dfe96972"
      },
      "execution_count": 16,
      "outputs": [
        {
          "output_type": "stream",
          "name": "stdout",
          "text": [
            "Hello World\n",
            "Hello World\n",
            "Hello*World\n"
          ]
        }
      ]
    },
    {
      "cell_type": "markdown",
      "source": [
        "**Variables and Datatypes**\n",
        "\n",
        "Variable : A sequence of characters used to store the values \n",
        "\n",
        "Datatype : Type associated with a data"
      ],
      "metadata": {
        "id": "F6acGmkMwv8G"
      }
    },
    {
      "cell_type": "code",
      "source": [
        "#integer\n",
        "digit = 5\n",
        "print(digit)\n",
        "print(type(digit))"
      ],
      "metadata": {
        "colab": {
          "base_uri": "https://localhost:8080/"
        },
        "id": "mIpwC9jWuOEA",
        "outputId": "1857b6e6-fe87-401d-980d-39f1fb63f49a"
      },
      "execution_count": 18,
      "outputs": [
        {
          "output_type": "stream",
          "name": "stdout",
          "text": [
            "5\n",
            "<class 'int'>\n"
          ]
        }
      ]
    },
    {
      "cell_type": "code",
      "source": [
        "#string\n",
        "digit = '5'\n",
        "print(digit)\n",
        "print(type(digit))"
      ],
      "metadata": {
        "colab": {
          "base_uri": "https://localhost:8080/"
        },
        "id": "eFp6Bq0kxhSa",
        "outputId": "9b181b67-fce4-47c6-e19d-3227a0fe266b"
      },
      "execution_count": 19,
      "outputs": [
        {
          "output_type": "stream",
          "name": "stdout",
          "text": [
            "5\n",
            "<class 'str'>\n"
          ]
        }
      ]
    },
    {
      "cell_type": "code",
      "source": [
        "#float\n",
        "pi = 3.14\n",
        "print(pi)\n",
        "print(type(pi))"
      ],
      "metadata": {
        "colab": {
          "base_uri": "https://localhost:8080/"
        },
        "id": "GtNw-3OWx3is",
        "outputId": "24904246-1824-40e5-dfd4-f53d4ba207ef"
      },
      "execution_count": 20,
      "outputs": [
        {
          "output_type": "stream",
          "name": "stdout",
          "text": [
            "3.14\n",
            "<class 'float'>\n"
          ]
        }
      ]
    },
    {
      "cell_type": "code",
      "source": [
        "#boolean\n",
        "isprime = True\n",
        "print(isprime)\n",
        "print(type(isprime))"
      ],
      "metadata": {
        "colab": {
          "base_uri": "https://localhost:8080/"
        },
        "id": "bh971d0syifO",
        "outputId": "0c46317d-9e31-43a5-d358-affabb68cecf"
      },
      "execution_count": 21,
      "outputs": [
        {
          "output_type": "stream",
          "name": "stdout",
          "text": [
            "True\n",
            "<class 'bool'>\n"
          ]
        }
      ]
    },
    {
      "cell_type": "code",
      "source": [
        "#complex\n",
        "z = 3+4j\n",
        "print(z)\n",
        "print(type(z))"
      ],
      "metadata": {
        "colab": {
          "base_uri": "https://localhost:8080/"
        },
        "id": "k1tHrW2Czbrr",
        "outputId": "7b492521-54b0-405e-e107-acea918cecac"
      },
      "execution_count": 22,
      "outputs": [
        {
          "output_type": "stream",
          "name": "stdout",
          "text": [
            "(3+4j)\n",
            "<class 'complex'>\n"
          ]
        }
      ]
    },
    {
      "cell_type": "markdown",
      "source": [
        "**Console Input**\n",
        "\n",
        "input() : function used to read data from user"
      ],
      "metadata": {
        "id": "hR8qkCbb0SaY"
      }
    },
    {
      "cell_type": "code",
      "source": [
        "s = input()\n",
        "print(s)"
      ],
      "metadata": {
        "colab": {
          "base_uri": "https://localhost:8080/"
        },
        "id": "vfsNPTbPz7d0",
        "outputId": "7a9103fb-0145-4050-d2a0-7dd94ddd9696"
      },
      "execution_count": 24,
      "outputs": [
        {
          "output_type": "stream",
          "name": "stdout",
          "text": [
            "hello world\n",
            "hello world\n"
          ]
        }
      ]
    },
    {
      "cell_type": "code",
      "source": [
        "name = input(\"Enter your name : \")\n",
        "print(\"Your name is\",name)"
      ],
      "metadata": {
        "colab": {
          "base_uri": "https://localhost:8080/"
        },
        "id": "R_SoS_WY0jHs",
        "outputId": "c570c3f9-60ff-421b-b268-8aa9bc329794"
      },
      "execution_count": 29,
      "outputs": [
        {
          "output_type": "stream",
          "name": "stdout",
          "text": [
            "Enter your name : Shailesh S\n",
            "Your name is Shailesh S\n"
          ]
        }
      ]
    },
    {
      "cell_type": "code",
      "source": [
        "print(type(s))\n",
        "print(type(name))"
      ],
      "metadata": {
        "colab": {
          "base_uri": "https://localhost:8080/"
        },
        "id": "dtCkpF2z0zHi",
        "outputId": "48ca5ff9-a70f-45b8-efc0-fd26ed96c962"
      },
      "execution_count": 30,
      "outputs": [
        {
          "output_type": "stream",
          "name": "stdout",
          "text": [
            "<class 'str'>\n",
            "<class 'str'>\n"
          ]
        }
      ]
    },
    {
      "cell_type": "code",
      "source": [
        "age = int(input(\"Enter your age : \"))\n",
        "#age = int(age)\n",
        "print(age)\n",
        "print(type(age))"
      ],
      "metadata": {
        "colab": {
          "base_uri": "https://localhost:8080/"
        },
        "id": "cVM0Apmy1TXm",
        "outputId": "e3d03a56-2a9f-47b5-caba-c651efa64560"
      },
      "execution_count": 33,
      "outputs": [
        {
          "output_type": "stream",
          "name": "stdout",
          "text": [
            "Enter your age : 35\n",
            "35\n",
            "<class 'int'>\n"
          ]
        }
      ]
    },
    {
      "cell_type": "code",
      "source": [
        "weight = float(input(\"Enter your weight : \"))\n",
        "print(weight)\n",
        "print(type(weight))"
      ],
      "metadata": {
        "colab": {
          "base_uri": "https://localhost:8080/"
        },
        "id": "elRYuwWM1j-9",
        "outputId": "1eaea6ac-3d2c-4a6b-f89b-5bcb3ec75a67"
      },
      "execution_count": 36,
      "outputs": [
        {
          "output_type": "stream",
          "name": "stdout",
          "text": [
            "Enter your weight : 73.5\n",
            "73.5\n",
            "<class 'float'>\n"
          ]
        }
      ]
    },
    {
      "cell_type": "markdown",
      "source": [
        "**Operators**\n",
        "\n",
        "1. Arithmetic Operators\n",
        "\n",
        "*   '+' - addition\n",
        "*   '-' - subtraction\n",
        "*   '*' - multiplication\n",
        "*   '/' - division\n",
        "*   '%' - modulo division\n",
        "*   '//' - integer division\n",
        "\n",
        "\n",
        "\n",
        "\n",
        "\n"
      ],
      "metadata": {
        "id": "4qkvM9f32i6n"
      }
    },
    {
      "cell_type": "code",
      "source": [
        "a = 7\n",
        "b = 3\n",
        "\n",
        "sum =  a+b\n",
        "print(sum)\n",
        "\n",
        "diff =  a-b\n",
        "print(diff)\n",
        "\n",
        "pro =  a*b\n",
        "print(pro)\n",
        "\n",
        "ratio =  a/b\n",
        "print(ratio)\n",
        "\n",
        "rem =  a%b\n",
        "print(rem)\n",
        "\n",
        "quo =  a//b\n",
        "print(quo)"
      ],
      "metadata": {
        "colab": {
          "base_uri": "https://localhost:8080/"
        },
        "id": "co2fhU5s2NhE",
        "outputId": "06f9d74e-6072-4f55-b6d2-76c9049c8717"
      },
      "execution_count": 37,
      "outputs": [
        {
          "output_type": "stream",
          "name": "stdout",
          "text": [
            "10\n",
            "4\n",
            "21\n",
            "2.3333333333333335\n",
            "1\n",
            "2\n"
          ]
        }
      ]
    },
    {
      "cell_type": "markdown",
      "source": [
        "Write a program to print sum and average of 3 numbers."
      ],
      "metadata": {
        "id": "ag6yATcg4eAx"
      }
    },
    {
      "cell_type": "code",
      "source": [
        "num1 = int(input('Enter number 1 : '))\n",
        "num2 = int(input('Enter number 2 : '))\n",
        "num3 = int(input('Enter number 3 : '))\n",
        "\n",
        "sum = num1 + num2 + num3\n",
        "avg = sum/3\n",
        "\n",
        "print(\"Sum = \",sum)\n",
        "print(\"Average = \",avg)"
      ],
      "metadata": {
        "colab": {
          "base_uri": "https://localhost:8080/"
        },
        "id": "7PIzn63j3_RA",
        "outputId": "ec7629fd-7209-4ea4-aa93-3233dde6e1e2"
      },
      "execution_count": 39,
      "outputs": [
        {
          "output_type": "stream",
          "name": "stdout",
          "text": [
            "Enter number 1 : 3\n",
            "Enter number 2 : 4\n",
            "Enter number 3 : 5\n",
            "Sum =  12\n",
            "Average =  4.0\n"
          ]
        }
      ]
    },
    {
      "cell_type": "code",
      "source": [
        ""
      ],
      "metadata": {
        "id": "8YaslA2549yi"
      },
      "execution_count": null,
      "outputs": []
    }
  ]
}