{
  "nbformat": 4,
  "nbformat_minor": 0,
  "metadata": {
    "colab": {
      "name": "Untitled0.ipynb",
      "provenance": []
    },
    "kernelspec": {
      "name": "python3",
      "display_name": "Python 3"
    },
    "language_info": {
      "name": "python"
    }
  },
  "cells": [
    {
      "cell_type": "markdown",
      "source": [
        "## Boolean and Relational Operator"
      ],
      "metadata": {
        "id": "HttvtEOZrmzL"
      }
    },
    {
      "cell_type": "markdown",
      "source": [
        "Booleans are used to keep truth values or boolean values.\n",
        "Boolean constants - True , False"
      ],
      "metadata": {
        "id": "YkOO_5KYrvvh"
      }
    },
    {
      "cell_type": "code",
      "source": [
        "a = True\n",
        "print(a)\n",
        "print(type(a))"
      ],
      "metadata": {
        "colab": {
          "base_uri": "https://localhost:8080/"
        },
        "id": "09-YhnJKr6Xg",
        "outputId": "d944d503-e357-4a0e-c2c2-bf3ccc9220d2"
      },
      "execution_count": null,
      "outputs": [
        {
          "output_type": "stream",
          "name": "stdout",
          "text": [
            "True\n",
            "<class 'bool'>\n"
          ]
        }
      ]
    },
    {
      "cell_type": "code",
      "source": [
        "b = False\n",
        "print(b)\n",
        "print(type(b))"
      ],
      "metadata": {
        "colab": {
          "base_uri": "https://localhost:8080/"
        },
        "id": "PNXL7S-Prt7b",
        "outputId": "35e3fe56-963b-4c53-872f-c7fc9c732764"
      },
      "execution_count": null,
      "outputs": [
        {
          "output_type": "stream",
          "name": "stdout",
          "text": [
            "False\n",
            "<class 'bool'>\n"
          ]
        }
      ]
    },
    {
      "cell_type": "markdown",
      "source": [
        "Boolean Operators : and, or , not"
      ],
      "metadata": {
        "id": "BfXgdUIBsZMq"
      }
    },
    {
      "cell_type": "code",
      "source": [
        "print(a and b)\n",
        "print(a or b)\n",
        "print(not a, not b)"
      ],
      "metadata": {
        "colab": {
          "base_uri": "https://localhost:8080/"
        },
        "id": "BAzodmM1rq4o",
        "outputId": "56557f5d-93e2-4ccc-9f11-2911d47672f5"
      },
      "execution_count": null,
      "outputs": [
        {
          "output_type": "stream",
          "name": "stdout",
          "text": [
            "False\n",
            "True\n",
            "False True\n"
          ]
        }
      ]
    },
    {
      "cell_type": "markdown",
      "source": [
        "Boolean values comes as a result of relational opertaions\n",
        "\n",
        "Relational Operators : **> , < , >= , <= , == , !=** "
      ],
      "metadata": {
        "id": "nTPawPUos7Ov"
      }
    },
    {
      "cell_type": "code",
      "source": [
        "a = 5\n",
        "b = 3\n",
        "\n",
        "print(a > b)\n",
        "print(a < b)\n",
        "print(a >= b)\n",
        "print(a <= b)\n",
        "print(a == b)\n",
        "print(a != b)"
      ],
      "metadata": {
        "colab": {
          "base_uri": "https://localhost:8080/"
        },
        "id": "2eJ1oaDBtUv9",
        "outputId": "58e83d3d-182e-4c99-cf98-c37d718ca05b"
      },
      "execution_count": null,
      "outputs": [
        {
          "output_type": "stream",
          "name": "stdout",
          "text": [
            "True\n",
            "False\n",
            "True\n",
            "False\n",
            "False\n",
            "True\n"
          ]
        }
      ]
    },
    {
      "cell_type": "code",
      "source": [
        "print(not a<b)"
      ],
      "metadata": {
        "colab": {
          "base_uri": "https://localhost:8080/"
        },
        "id": "qqoLf6ThskCK",
        "outputId": "e38f5139-18b2-4897-d843-460c0613e9a6"
      },
      "execution_count": null,
      "outputs": [
        {
          "output_type": "stream",
          "name": "stdout",
          "text": [
            "True\n"
          ]
        }
      ]
    },
    {
      "cell_type": "code",
      "source": [
        "age = 18\n",
        "gender = 'Male'\n",
        "\n",
        "print(age >= 18 and gender == 'Female')"
      ],
      "metadata": {
        "colab": {
          "base_uri": "https://localhost:8080/"
        },
        "id": "lhrQIFSQtubD",
        "outputId": "05e89192-939b-4309-f888-3b867510f7a8"
      },
      "execution_count": null,
      "outputs": [
        {
          "output_type": "stream",
          "name": "stdout",
          "text": [
            "False\n"
          ]
        }
      ]
    },
    {
      "cell_type": "markdown",
      "source": [
        "# Strings\n",
        "String are sequence of characters "
      ],
      "metadata": {
        "id": "wwxRT8zVuUTp"
      }
    },
    {
      "cell_type": "code",
      "source": [
        "s1 = 'hello'\n",
        "s2 = \"hello\"\n",
        "\n",
        "print(s1, type(s1))\n",
        "print(s2, type(s2))"
      ],
      "metadata": {
        "colab": {
          "base_uri": "https://localhost:8080/"
        },
        "id": "5R9UwBg7uLPl",
        "outputId": "6b935308-a343-4e8e-9539-20ad2a6310ea"
      },
      "execution_count": null,
      "outputs": [
        {
          "output_type": "stream",
          "name": "stdout",
          "text": [
            "hello <class 'str'>\n",
            "hello <class 'str'>\n"
          ]
        }
      ]
    },
    {
      "cell_type": "code",
      "source": [
        "a = 123\n",
        "print(a,type(a))\n",
        "a = str(a)\n",
        "print(a,type(a))"
      ],
      "metadata": {
        "colab": {
          "base_uri": "https://localhost:8080/"
        },
        "id": "R-lBZpiLuoxH",
        "outputId": "b2e3cf6c-6543-4ab4-afc3-ed552991c091"
      },
      "execution_count": null,
      "outputs": [
        {
          "output_type": "stream",
          "name": "stdout",
          "text": [
            "123 <class 'int'>\n",
            "123 <class 'str'>\n"
          ]
        }
      ]
    },
    {
      "cell_type": "code",
      "source": [
        "s1 = 'hello'\n",
        "s2 = 'world'\n",
        "\n",
        "s3 = s1 + ' ' + s2\n",
        "print(s3)"
      ],
      "metadata": {
        "colab": {
          "base_uri": "https://localhost:8080/"
        },
        "id": "g0iRthXuuw_v",
        "outputId": "9cfe7d2e-c702-4552-9b87-dd0ba42ea50e"
      },
      "execution_count": null,
      "outputs": [
        {
          "output_type": "stream",
          "name": "stdout",
          "text": [
            "hello world\n"
          ]
        }
      ]
    },
    {
      "cell_type": "code",
      "source": [
        "s4 = '%s %s'%(s1,s2) # format specifiers\n",
        "print(s4)"
      ],
      "metadata": {
        "colab": {
          "base_uri": "https://localhost:8080/"
        },
        "id": "869PpbaxvF8h",
        "outputId": "d455434d-c086-4957-8aa0-6b666126a248"
      },
      "execution_count": null,
      "outputs": [
        {
          "output_type": "stream",
          "name": "stdout",
          "text": [
            "hello world\n"
          ]
        }
      ]
    },
    {
      "cell_type": "code",
      "source": [
        "s = 'hello how are you ?'\n",
        "print(len(s))"
      ],
      "metadata": {
        "colab": {
          "base_uri": "https://localhost:8080/"
        },
        "id": "jsBR7P_ovV8m",
        "outputId": "4100802b-e8ea-4954-bb9a-dca993bea996"
      },
      "execution_count": null,
      "outputs": [
        {
          "output_type": "stream",
          "name": "stdout",
          "text": [
            "19\n"
          ]
        }
      ]
    },
    {
      "cell_type": "code",
      "source": [
        "print(s.upper())"
      ],
      "metadata": {
        "colab": {
          "base_uri": "https://localhost:8080/"
        },
        "id": "GM5mknyXvwtR",
        "outputId": "1e5982cb-36aa-49a1-c9d9-3c0a720ef6a5"
      },
      "execution_count": null,
      "outputs": [
        {
          "output_type": "stream",
          "name": "stdout",
          "text": [
            "HELLO HOW ARE YOU ?\n"
          ]
        }
      ]
    },
    {
      "cell_type": "code",
      "source": [
        "print(s.lower())"
      ],
      "metadata": {
        "colab": {
          "base_uri": "https://localhost:8080/"
        },
        "id": "Cv228pu7v3eo",
        "outputId": "3d679533-17e1-4ac5-a6db-8be16209ec12"
      },
      "execution_count": null,
      "outputs": [
        {
          "output_type": "stream",
          "name": "stdout",
          "text": [
            "hello how are you ?\n"
          ]
        }
      ]
    },
    {
      "cell_type": "code",
      "source": [
        "print(s.capitalize())"
      ],
      "metadata": {
        "colab": {
          "base_uri": "https://localhost:8080/"
        },
        "id": "4Wa8Obwkv5mx",
        "outputId": "c5b4d6c6-2ab2-44b8-8ec1-a3ec246605db"
      },
      "execution_count": null,
      "outputs": [
        {
          "output_type": "stream",
          "name": "stdout",
          "text": [
            "Hello.how.are.you.?\n"
          ]
        }
      ]
    },
    {
      "cell_type": "code",
      "source": [
        "print(s.split(' '))"
      ],
      "metadata": {
        "colab": {
          "base_uri": "https://localhost:8080/"
        },
        "id": "KXwY-_FdwGR7",
        "outputId": "7e9ea875-e064-43ea-e4f3-0fae6f936b87"
      },
      "execution_count": null,
      "outputs": [
        {
          "output_type": "stream",
          "name": "stdout",
          "text": [
            "['hello', 'how', 'are', 'you', '?']\n"
          ]
        }
      ]
    },
    {
      "cell_type": "code",
      "source": [
        "ss = s.split(' ')\n",
        "print(ss)\n",
        "s = ' '.join(ss)\n",
        "print(s)"
      ],
      "metadata": {
        "colab": {
          "base_uri": "https://localhost:8080/"
        },
        "id": "f3NgkE29wYyN",
        "outputId": "21dfbc76-9da6-4c5f-dea2-b99ced70b03c"
      },
      "execution_count": null,
      "outputs": [
        {
          "output_type": "stream",
          "name": "stdout",
          "text": [
            "['hello.how.are.you.?']\n",
            "hello.how.are.you.?\n"
          ]
        }
      ]
    },
    {
      "cell_type": "code",
      "source": [
        "s = 'jewellery'\n",
        "print(s.find('well'))\n",
        "print(s.find('pond'))"
      ],
      "metadata": {
        "colab": {
          "base_uri": "https://localhost:8080/"
        },
        "id": "osw15vOQwsjB",
        "outputId": "8b34e0e6-5dd8-4b58-c3d2-98f808e1e794"
      },
      "execution_count": null,
      "outputs": [
        {
          "output_type": "stream",
          "name": "stdout",
          "text": [
            "2\n",
            "-1\n"
          ]
        }
      ]
    },
    {
      "cell_type": "markdown",
      "source": [
        "**Control Structures**\n",
        "\n",
        "1. Branching\n",
        "2. Looping"
      ],
      "metadata": {
        "id": "XmE7naR5yCmh"
      }
    },
    {
      "cell_type": "markdown",
      "source": [
        "Simple if\n",
        "\n",
        "```\n",
        "if <condition> : \n",
        "      statement 1\n",
        "      statement 2\n",
        "```\n",
        "\n"
      ],
      "metadata": {
        "id": "iaUZONdMyt4g"
      }
    },
    {
      "cell_type": "code",
      "source": [
        "a =5 \n",
        "b= 6\n",
        "if a > b :\n",
        "  print(\"Hello\")"
      ],
      "metadata": {
        "id": "KdYmYSvCybFT"
      },
      "execution_count": null,
      "outputs": []
    },
    {
      "cell_type": "markdown",
      "source": [
        "if - else\n",
        "\n",
        "```\n",
        "if <condition> : \n",
        "      statement 1\n",
        "      statement 2\n",
        "else:\n",
        "      statement 3\n",
        "      statement 4\n",
        "```"
      ],
      "metadata": {
        "id": "e_jftylizNJE"
      }
    },
    {
      "cell_type": "code",
      "source": [
        "a = 3\n",
        "b = 5\n",
        "\n",
        "if a>b : \n",
        "  print(a)\n",
        "else:\n",
        "  print(b)\n",
        "print('Try again')"
      ],
      "metadata": {
        "colab": {
          "base_uri": "https://localhost:8080/"
        },
        "id": "ee4tBQJvxUxo",
        "outputId": "8e7f9307-598e-48f5-fdc6-ca4b9a6faee5"
      },
      "execution_count": null,
      "outputs": [
        {
          "output_type": "stream",
          "name": "stdout",
          "text": [
            "5\n",
            "Try again\n"
          ]
        }
      ]
    },
    {
      "cell_type": "markdown",
      "source": [
        "if - elif - else\n",
        "\n",
        "```\n",
        "if <condition> : \n",
        "      statement 1\n",
        "      statement 2\n",
        "elif <condition>:\n",
        "      statement 3\n",
        "elif <condition>:\n",
        "      statement 4\n",
        ".\n",
        ".\n",
        "else :  \n",
        "     statement n-1\n",
        "     statement n\n",
        "\n",
        "```"
      ],
      "metadata": {
        "id": "7annt8OwzxeK"
      }
    },
    {
      "cell_type": "code",
      "source": [
        "N = int(input(\"Enter a number : \"))\n",
        "if N>0:\n",
        "  print('positive')\n",
        "elif N<0:\n",
        "  print('negative')\n",
        "else:\n",
        "  print('zero')\n"
      ],
      "metadata": {
        "colab": {
          "base_uri": "https://localhost:8080/"
        },
        "id": "7KJXYvTsyH2k",
        "outputId": "cde1e6a1-4496-4d27-c71a-9a89f3118c79"
      },
      "execution_count": null,
      "outputs": [
        {
          "output_type": "stream",
          "name": "stdout",
          "text": [
            "Enter a number : 0\n",
            "zero\n"
          ]
        }
      ]
    },
    {
      "cell_type": "code",
      "source": [
        ""
      ],
      "metadata": {
        "id": "AY1uDObi0l1e"
      },
      "execution_count": null,
      "outputs": []
    }
  ]
}