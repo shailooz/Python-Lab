{
  "nbformat": 4,
  "nbformat_minor": 0,
  "metadata": {
    "colab": {
      "name": "Untitled3.ipynb",
      "provenance": []
    },
    "kernelspec": {
      "name": "python3",
      "display_name": "Python 3"
    },
    "language_info": {
      "name": "python"
    }
  },
  "cells": [
    {
      "cell_type": "markdown",
      "source": [
        "## **Containers - Part 2** \n",
        "\n",
        "\n",
        "\n",
        "```\n",
        "details = [5,\"Raju\",\"Computer Science\",16]\n",
        "#How to access the department\n",
        "print(details[2]) #or details['dept'] is good?\n",
        "```\n",
        "\n",
        "\n",
        "\n",
        "**Dictionary**\n",
        "* It is used to store data as key - value pairs\n",
        "* Each element in a dictionary is in the form of K:V where K - key and V- value\n",
        "* Dictionary can be created by enumerating each data object sepreated by comma(,) with in a pair of curly brackets {}\n",
        "* Dictionaries does not allow duplicates and it is immutable\n",
        "* To access the value part of a data object, one can use key as the index \n"
      ],
      "metadata": {
        "id": "CVsiyjYlMK6E"
      }
    },
    {
      "cell_type": "code",
      "source": [
        "details = {'rollno':5,'name':\"Raju\",'dept':\"Computer Science\",'age':16}\n",
        "print(details['name'],details['age'])"
      ],
      "metadata": {
        "colab": {
          "base_uri": "https://localhost:8080/"
        },
        "id": "1EUQ6yC7OKwI",
        "outputId": "97bb4faa-9a41-4ab6-b590-73b35954b34c"
      },
      "execution_count": null,
      "outputs": [
        {
          "output_type": "stream",
          "name": "stdout",
          "text": [
            "Raju 16\n"
          ]
        }
      ]
    },
    {
      "cell_type": "markdown",
      "source": [
        "To check the presence of a key , **in** can be used "
      ],
      "metadata": {
        "id": "E3wMshHHQduu"
      }
    },
    {
      "cell_type": "code",
      "source": [
        "print('rollno' in details)\n",
        "print('semester' in details)"
      ],
      "metadata": {
        "colab": {
          "base_uri": "https://localhost:8080/"
        },
        "id": "C_anMEiDQcpC",
        "outputId": "dfbdb37f-1818-4054-ffb7-9c7f7c8688ea"
      },
      "execution_count": null,
      "outputs": [
        {
          "output_type": "stream",
          "name": "stdout",
          "text": [
            "True\n",
            "False\n"
          ]
        }
      ]
    },
    {
      "cell_type": "code",
      "source": [
        "details['semster'] = 3\n",
        "print(details)"
      ],
      "metadata": {
        "colab": {
          "base_uri": "https://localhost:8080/"
        },
        "id": "MU1KnnIxRAQq",
        "outputId": "c27b5d9c-8c1f-4e6f-bc0b-c59a21076ce8"
      },
      "execution_count": null,
      "outputs": [
        {
          "output_type": "stream",
          "name": "stdout",
          "text": [
            "{'rollno': 5, 'name': 'Raju', 'dept': 'Computer Science', 'age': 16, 'semster': 3}\n"
          ]
        }
      ]
    },
    {
      "cell_type": "code",
      "source": [
        "print(details.keys())"
      ],
      "metadata": {
        "colab": {
          "base_uri": "https://localhost:8080/"
        },
        "id": "DH3NXr1sQFAG",
        "outputId": "fc5ac344-7193-49d2-b1a4-9380593bf587"
      },
      "execution_count": null,
      "outputs": [
        {
          "output_type": "stream",
          "name": "stdout",
          "text": [
            "dict_keys(['rollno', 'name', 'dept', 'age', 'semster'])\n"
          ]
        }
      ]
    },
    {
      "cell_type": "code",
      "source": [
        "print(details.values())"
      ],
      "metadata": {
        "colab": {
          "base_uri": "https://localhost:8080/"
        },
        "id": "JBjUzJxqRU2c",
        "outputId": "2f1382d6-e213-409b-d164-ee1107433c95"
      },
      "execution_count": null,
      "outputs": [
        {
          "output_type": "stream",
          "name": "stdout",
          "text": [
            "dict_values([5, 'Raju', 'Computer Science', 16, 3])\n"
          ]
        }
      ]
    },
    {
      "cell_type": "code",
      "source": [
        "print(details.items())"
      ],
      "metadata": {
        "colab": {
          "base_uri": "https://localhost:8080/"
        },
        "id": "33DwRIVLRalg",
        "outputId": "fb5ed9b6-f2cc-43d8-9fb9-3eb58091b156"
      },
      "execution_count": null,
      "outputs": [
        {
          "output_type": "stream",
          "name": "stdout",
          "text": [
            "dict_items([('rollno', 5), ('name', 'Raju'), ('dept', 'Computer Science'), ('age', 16), ('semster', 3)])\n"
          ]
        }
      ]
    },
    {
      "cell_type": "markdown",
      "source": [
        "**Iterating through dictionary** "
      ],
      "metadata": {
        "id": "ftAUez-4RslV"
      }
    },
    {
      "cell_type": "code",
      "source": [
        "animals = {'dog':4, 'man' : 2, 'spider':8, 'fish':0}\n",
        "print('Animal\\t\\tLegs')\n",
        "for key in animals:\n",
        "  print(key,'\\t\\t',animals[key])\n"
      ],
      "metadata": {
        "colab": {
          "base_uri": "https://localhost:8080/"
        },
        "id": "dOZ7d8cQRjxr",
        "outputId": "3df18df8-972d-457d-8759-293546059af1"
      },
      "execution_count": null,
      "outputs": [
        {
          "output_type": "stream",
          "name": "stdout",
          "text": [
            "Animal\t\tLegs\n",
            "dog \t\t 4\n",
            "man \t\t 2\n",
            "spider \t\t 8\n",
            "fish \t\t 0\n"
          ]
        }
      ]
    },
    {
      "cell_type": "code",
      "source": [
        "print('Animal\\t\\tLegs')\n",
        "for key,value in animals.items():\n",
        "  print(key,'\\t\\t',value)"
      ],
      "metadata": {
        "colab": {
          "base_uri": "https://localhost:8080/"
        },
        "id": "he688StLS2t1",
        "outputId": "c43ce426-90b5-44a2-a8e0-1941c1e1695d"
      },
      "execution_count": null,
      "outputs": [
        {
          "output_type": "stream",
          "name": "stdout",
          "text": [
            "Animal\t\tLegs\n",
            "dog \t\t 4\n",
            "man \t\t 2\n",
            "spider \t\t 8\n",
            "fish \t\t 0\n"
          ]
        }
      ]
    },
    {
      "cell_type": "markdown",
      "source": [
        "**Tuple** \n",
        "\n",
        "* Same as list but less complex\n",
        "* It is mutable\n",
        "* It maintains the the order of the data\n",
        "* It is unchangable\n",
        "* It allows duplicates"
      ],
      "metadata": {
        "id": "2rAqXB6IT5O_"
      }
    },
    {
      "cell_type": "code",
      "source": [
        "tup =  (1,2,3)\n",
        "print(tup)\n",
        "print(type(tup))\n",
        "\n",
        "\n",
        "tup =  'a','b','c'\n",
        "print(tup)\n",
        "print(type(tup))"
      ],
      "metadata": {
        "colab": {
          "base_uri": "https://localhost:8080/"
        },
        "id": "onWNAN-yTNNO",
        "outputId": "8cc514bd-d610-4e16-98cc-0e06584f6863"
      },
      "execution_count": null,
      "outputs": [
        {
          "output_type": "stream",
          "name": "stdout",
          "text": [
            "(1, 2, 3)\n",
            "<class 'tuple'>\n",
            "('a', 'b', 'c')\n",
            "<class 'tuple'>\n"
          ]
        }
      ]
    },
    {
      "cell_type": "code",
      "source": [
        "X = (5,) #(5)\n",
        "print(X)\n",
        "print(type(X))"
      ],
      "metadata": {
        "colab": {
          "base_uri": "https://localhost:8080/"
        },
        "id": "llR9nbzbXxw-",
        "outputId": "4f5d0cf6-a32f-4402-aa57-a5ad72a02e8d"
      },
      "execution_count": null,
      "outputs": [
        {
          "output_type": "stream",
          "name": "stdout",
          "text": [
            "(5,)\n",
            "<class 'tuple'>\n"
          ]
        }
      ]
    },
    {
      "cell_type": "code",
      "source": [
        "l = [1,2,3]\n",
        "t = tuple(l)\n",
        "print(l,t)"
      ],
      "metadata": {
        "colab": {
          "base_uri": "https://localhost:8080/"
        },
        "id": "pIuF_J8rYTfi",
        "outputId": "c673d9bb-0c6c-4c88-ebca-d403e817da4d"
      },
      "execution_count": null,
      "outputs": [
        {
          "output_type": "stream",
          "name": "stdout",
          "text": [
            "[1, 2, 3] (1, 2, 3)\n"
          ]
        }
      ]
    },
    {
      "cell_type": "code",
      "source": [
        "t = (1,2,3) + (5,6)\n",
        "print(t)"
      ],
      "metadata": {
        "colab": {
          "base_uri": "https://localhost:8080/"
        },
        "id": "Wstof_ztYnGq",
        "outputId": "172ee1f7-c6e4-4a34-926f-dddc6ab388c6"
      },
      "execution_count": null,
      "outputs": [
        {
          "output_type": "stream",
          "name": "stdout",
          "text": [
            "(1, 2, 3, 5, 6)\n"
          ]
        }
      ]
    },
    {
      "cell_type": "code",
      "source": [
        "print(t[3])"
      ],
      "metadata": {
        "colab": {
          "base_uri": "https://localhost:8080/"
        },
        "id": "bAFfvmEZYw0b",
        "outputId": "8d649971-980c-4814-daef-d05898aac4a2"
      },
      "execution_count": null,
      "outputs": [
        {
          "output_type": "stream",
          "name": "stdout",
          "text": [
            "5\n"
          ]
        }
      ]
    },
    {
      "cell_type": "code",
      "source": [
        "t[3] = 7"
      ],
      "metadata": {
        "colab": {
          "base_uri": "https://localhost:8080/",
          "height": 166
        },
        "id": "IS8h_R54Y3Ie",
        "outputId": "b24f8a8a-983d-44f0-a7c9-949bf98072f5"
      },
      "execution_count": null,
      "outputs": [
        {
          "output_type": "error",
          "ename": "TypeError",
          "evalue": "ignored",
          "traceback": [
            "\u001b[0;31m---------------------------------------------------------------------------\u001b[0m",
            "\u001b[0;31mTypeError\u001b[0m                                 Traceback (most recent call last)",
            "\u001b[0;32m<ipython-input-25-71399f897fd1>\u001b[0m in \u001b[0;36m<module>\u001b[0;34m()\u001b[0m\n\u001b[0;32m----> 1\u001b[0;31m \u001b[0mt\u001b[0m\u001b[0;34m[\u001b[0m\u001b[0;36m3\u001b[0m\u001b[0;34m]\u001b[0m \u001b[0;34m=\u001b[0m \u001b[0;36m7\u001b[0m\u001b[0;34m\u001b[0m\u001b[0;34m\u001b[0m\u001b[0m\n\u001b[0m",
            "\u001b[0;31mTypeError\u001b[0m: 'tuple' object does not support item assignment"
          ]
        }
      ]
    },
    {
      "cell_type": "code",
      "source": [
        "print(t*2)"
      ],
      "metadata": {
        "colab": {
          "base_uri": "https://localhost:8080/"
        },
        "id": "pppP5tQZY5-5",
        "outputId": "4c09b6d1-bf09-4d7a-8e9d-aa385fe8cb2d"
      },
      "execution_count": null,
      "outputs": [
        {
          "output_type": "stream",
          "name": "stdout",
          "text": [
            "(1, 2, 3, 5, 6, 1, 2, 3, 5, 6)\n"
          ]
        }
      ]
    },
    {
      "cell_type": "code",
      "source": [
        "print(t)"
      ],
      "metadata": {
        "colab": {
          "base_uri": "https://localhost:8080/"
        },
        "id": "_AiZDAUsZbg_",
        "outputId": "af1e260b-e56e-4647-d8ac-051bfe862f4f"
      },
      "execution_count": null,
      "outputs": [
        {
          "output_type": "stream",
          "name": "stdout",
          "text": [
            "(1, 2, 3, 5, 6)\n"
          ]
        }
      ]
    },
    {
      "cell_type": "markdown",
      "source": [
        "**Set** \n",
        "\n",
        "* Sets are unordered\n",
        "* It does not support duplicates\n",
        "* Sets are unchangable\n"
      ],
      "metadata": {
        "id": "dID157mbZ04V"
      }
    },
    {
      "cell_type": "code",
      "source": [
        "S = {1,2,3}\n",
        "print(S)\n",
        "print(type(S))"
      ],
      "metadata": {
        "colab": {
          "base_uri": "https://localhost:8080/"
        },
        "id": "nehaGv0-aUbZ",
        "outputId": "5ab98cff-3fbd-464e-af3b-c5d3986bc148"
      },
      "execution_count": null,
      "outputs": [
        {
          "output_type": "stream",
          "name": "stdout",
          "text": [
            "{1, 2, 3}\n",
            "<class 'set'>\n"
          ]
        }
      ]
    },
    {
      "cell_type": "code",
      "source": [
        "S = {1,2,3,3,4,2,1,5,3}\n",
        "print(S)"
      ],
      "metadata": {
        "colab": {
          "base_uri": "https://localhost:8080/"
        },
        "id": "GN867NxxbBYP",
        "outputId": "828e2a5e-599c-47b0-c9ab-4aaf96093cda"
      },
      "execution_count": null,
      "outputs": [
        {
          "output_type": "stream",
          "name": "stdout",
          "text": [
            "{1, 2, 3, 4, 5}\n"
          ]
        }
      ]
    },
    {
      "cell_type": "code",
      "source": [
        "S.add(6)\n",
        "print(S)"
      ],
      "metadata": {
        "colab": {
          "base_uri": "https://localhost:8080/"
        },
        "id": "830V66JFbKkS",
        "outputId": "2796a6f3-cbe1-4696-b8a5-c9910c09b476"
      },
      "execution_count": null,
      "outputs": [
        {
          "output_type": "stream",
          "name": "stdout",
          "text": [
            "{1, 2, 3, 4, 5, 6}\n"
          ]
        }
      ]
    },
    {
      "cell_type": "code",
      "source": [
        "S.remove(6)\n",
        "print(S)"
      ],
      "metadata": {
        "colab": {
          "base_uri": "https://localhost:8080/"
        },
        "id": "xnbniJwAbbKF",
        "outputId": "ba7d1ee5-8690-4ccd-8225-2fa0d0d6b1b6"
      },
      "execution_count": null,
      "outputs": [
        {
          "output_type": "stream",
          "name": "stdout",
          "text": [
            "{1, 2, 3, 4, 5}\n"
          ]
        }
      ]
    },
    {
      "cell_type": "code",
      "source": [
        "S.discard(4)\n",
        "print(S)"
      ],
      "metadata": {
        "colab": {
          "base_uri": "https://localhost:8080/"
        },
        "id": "hf9pWFgNbnZ3",
        "outputId": "ef49fded-c689-412a-d02b-477146feeca7"
      },
      "execution_count": null,
      "outputs": [
        {
          "output_type": "stream",
          "name": "stdout",
          "text": [
            "{1, 2, 3, 5}\n"
          ]
        }
      ]
    },
    {
      "cell_type": "code",
      "source": [
        "S = {'apple','mango','banana'}\n",
        "T = {'realme','apple','samsung'}\n",
        "\n",
        "print(S.union(T))"
      ],
      "metadata": {
        "colab": {
          "base_uri": "https://localhost:8080/"
        },
        "id": "s-MvfTmbbvsg",
        "outputId": "69b6b3c1-3964-4009-be13-ef52ef81f20f"
      },
      "execution_count": null,
      "outputs": [
        {
          "output_type": "stream",
          "name": "stdout",
          "text": [
            "{'mango', 'apple', 'realme', 'banana', 'samsung'}\n"
          ]
        }
      ]
    },
    {
      "cell_type": "code",
      "source": [
        "print(S.intersection(T))"
      ],
      "metadata": {
        "colab": {
          "base_uri": "https://localhost:8080/"
        },
        "id": "vKc757KbcN_l",
        "outputId": "445a5095-69f6-4f4d-ed6b-866b9892e569"
      },
      "execution_count": null,
      "outputs": [
        {
          "output_type": "stream",
          "name": "stdout",
          "text": [
            "{'apple'}\n"
          ]
        }
      ]
    },
    {
      "cell_type": "code",
      "source": [
        "l = [1,2,3,4,2,1,3,4,5,6,3,7]\n",
        "l = list(set(l))\n",
        "print(l)"
      ],
      "metadata": {
        "colab": {
          "base_uri": "https://localhost:8080/"
        },
        "id": "lSx6DKJBcPWe",
        "outputId": "d3d30f73-0e94-4440-9cef-f1de12482b61"
      },
      "execution_count": null,
      "outputs": [
        {
          "output_type": "stream",
          "name": "stdout",
          "text": [
            "[1, 2, 3, 4, 5, 6, 7]\n"
          ]
        }
      ]
    },
    {
      "cell_type": "code",
      "source": [
        ""
      ],
      "metadata": {
        "id": "sSf32m_zcwZN"
      },
      "execution_count": null,
      "outputs": []
    }
  ]
}