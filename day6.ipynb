{
  "nbformat": 4,
  "nbformat_minor": 0,
  "metadata": {
    "colab": {
      "name": "Untitled5.ipynb",
      "provenance": []
    },
    "kernelspec": {
      "name": "python3",
      "display_name": "Python 3"
    },
    "language_info": {
      "name": "python"
    }
  },
  "cells": [
    {
      "cell_type": "markdown",
      "source": [
        "## **Functions**   \n",
        "\n",
        "\n",
        "* Function are special part of a program which may/may not receive inputs called **arguments** and return the processed the ouputs called **return values**\n",
        "\n",
        "* Functions are always intended to perform a particular task\n",
        "\n",
        "Syntax\n",
        "\n",
        "```\n",
        "def <function name>(<argument1>, <argument2>, ... , <argumentN>):\n",
        "            : \n",
        "            :\n",
        "      <function body>\n",
        "            :\n",
        "            :\n",
        "      return <(value1, value2,......,valueN)>\n",
        "```\n",
        "\n",
        "\n"
      ],
      "metadata": {
        "id": "oiAO4juPgNbk"
      }
    },
    {
      "cell_type": "code",
      "execution_count": 2,
      "metadata": {
        "colab": {
          "base_uri": "https://localhost:8080/"
        },
        "id": "oG0dSqpXdbkj",
        "outputId": "eda5adc6-1a60-42f2-d76d-ec42925fa061"
      },
      "outputs": [
        {
          "output_type": "stream",
          "name": "stdout",
          "text": [
            "Average =  3.3333333333333335\n"
          ]
        }
      ],
      "source": [
        "def get_avg(a,b,c):\n",
        "  s = a+b+c\n",
        "  avg = s/3\n",
        "  return avg\n",
        "\n",
        "A = get_avg(2,3,5)\n",
        "print(\"Average = \", A)"
      ]
    },
    {
      "cell_type": "code",
      "source": [
        "def greet(name, msg):\n",
        "\n",
        "  line1 = \"Hi, %s\"%(name.upper(),)\n",
        "  line2 = \"%s\\n%s ?\"%(line1,msg.capitalize())\n",
        "  print(line2)\n",
        "\n",
        "\n",
        "greet('shailesh', 'how are you')"
      ],
      "metadata": {
        "colab": {
          "base_uri": "https://localhost:8080/"
        },
        "id": "BwBuPrdbh2lP",
        "outputId": "81e132cd-931c-449a-82d5-7be42cda6baa"
      },
      "execution_count": 4,
      "outputs": [
        {
          "output_type": "stream",
          "name": "stdout",
          "text": [
            "Hi, SHAILESH\n",
            "How are you ?\n"
          ]
        }
      ]
    },
    {
      "cell_type": "code",
      "source": [
        "def swap(a,b):\n",
        "  t = a\n",
        "  a = b\n",
        "  b = t\n",
        "  return a,b\n",
        "\n",
        "a = 5\n",
        "b = 3\n",
        "print(\"Before swap\")\n",
        "print(\"a = \",a)\n",
        "print(\"b = \",b)\n",
        "a,b = swap(a,b)\n",
        "print(\"After swap\")\n",
        "print(\"a = \",a)\n",
        "print(\"b = \",b)\n"
      ],
      "metadata": {
        "colab": {
          "base_uri": "https://localhost:8080/"
        },
        "id": "7ivgMIySi2OB",
        "outputId": "a30a0595-7848-49f3-d359-27fc10897b40"
      },
      "execution_count": 6,
      "outputs": [
        {
          "output_type": "stream",
          "name": "stdout",
          "text": [
            "Before swap\n",
            "a =  5\n",
            "b =  3\n",
            "After swap\n",
            "a =  3\n",
            "b =  5\n"
          ]
        }
      ]
    },
    {
      "cell_type": "code",
      "source": [
        "def is_prime(n):\n",
        "  for i in range(2,n//2 + 1):\n",
        "    if n%i == 0:\n",
        "      return False\n",
        "  return True\n",
        "\n",
        "print('is_prime(13) ', is_prime(13))\n",
        "print('is_prime(15) ', is_prime(15))"
      ],
      "metadata": {
        "colab": {
          "base_uri": "https://localhost:8080/"
        },
        "id": "H0UjJmOBjI9s",
        "outputId": "ddda9fdc-d82b-418a-f953-13850e27def8"
      },
      "execution_count": 9,
      "outputs": [
        {
          "output_type": "stream",
          "name": "stdout",
          "text": [
            "is_prime(13)  True\n",
            "is_prime(15)  False\n"
          ]
        }
      ]
    },
    {
      "cell_type": "code",
      "source": [
        "def print_primes(lb,ub):\n",
        "  for i in range(lb,ub+1):\n",
        "    if is_prime(i) : \n",
        "      print(i,end = \" \")\n",
        "\n",
        "print_primes(10,100)"
      ],
      "metadata": {
        "colab": {
          "base_uri": "https://localhost:8080/"
        },
        "id": "EMbMXHamkMmz",
        "outputId": "08c0e8a2-f5d3-4831-da8f-9a7429fdaff7"
      },
      "execution_count": 10,
      "outputs": [
        {
          "output_type": "stream",
          "name": "stdout",
          "text": [
            "11 13 17 19 23 29 31 37 41 43 47 53 59 61 67 71 73 79 83 89 97 "
          ]
        }
      ]
    },
    {
      "cell_type": "code",
      "source": [
        "#global variable\n",
        "n = 5\n",
        "def hi():\n",
        "  global n\n",
        "  n = 3\n",
        "  print(n)\n",
        "\n",
        "hi()\n",
        "print(n)"
      ],
      "metadata": {
        "colab": {
          "base_uri": "https://localhost:8080/"
        },
        "id": "NAmtWjboks6K",
        "outputId": "1c472e57-ce8f-404a-dbce-6d73bcfea0f3"
      },
      "execution_count": 16,
      "outputs": [
        {
          "output_type": "stream",
          "name": "stdout",
          "text": [
            "3\n",
            "3\n"
          ]
        }
      ]
    },
    {
      "cell_type": "code",
      "source": [
        "#function with default argument\n",
        "\n",
        "def amount_payable(p,n,r=5):\n",
        "  return p*(1+n*r/100)\n",
        "\n",
        "print(amount_payable(10000,2))\n",
        "print(amount_payable(10000,2,r=7))"
      ],
      "metadata": {
        "colab": {
          "base_uri": "https://localhost:8080/"
        },
        "id": "OeRbEo3rk97H",
        "outputId": "0830bde9-18c1-4f66-8e95-de6385e49f3b"
      },
      "execution_count": 18,
      "outputs": [
        {
          "output_type": "stream",
          "name": "stdout",
          "text": [
            "11000.0\n",
            "11400.000000000002\n"
          ]
        }
      ]
    },
    {
      "cell_type": "code",
      "source": [
        ""
      ],
      "metadata": {
        "id": "B-TZlG6pmS-P"
      },
      "execution_count": null,
      "outputs": []
    }
  ]
}